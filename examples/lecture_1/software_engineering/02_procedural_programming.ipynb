{
 "cells": [
  {
   "cell_type": "markdown",
   "id": "2e6b2a52-669e-40fe-837b-ad229c21d503",
   "metadata": {},
   "source": [
    "### Procuderal Programming\n",
    "Code is grouped in procedures"
   ]
  },
  {
   "cell_type": "code",
   "execution_count": 3,
   "id": "2df96ba1-8e52-4f2b-9c0a-15e78633dd6c",
   "metadata": {},
   "outputs": [],
   "source": [
    "import shop_procedural_programming as shop  # we import the procedures from a script file"
   ]
  },
  {
   "cell_type": "code",
   "execution_count": 12,
   "id": "72d95738-f3ad-437f-bcf1-2af27a380299",
   "metadata": {},
   "outputs": [
    {
     "name": "stdout",
     "output_type": "stream",
     "text": [
      "The autoreload extension is already loaded. To reload it, use:\n",
      "  %reload_ext autoreload\n"
     ]
    }
   ],
   "source": [
    "# this auto-relaods the imported modules when edited\n",
    "%load_ext autoreload\n",
    "%autoreload 2"
   ]
  },
  {
   "cell_type": "code",
   "execution_count": 18,
   "id": "4b9b6fe0-986f-4d03-8137-65756d093b80",
   "metadata": {},
   "outputs": [
    {
     "name": "stdout",
     "output_type": "stream",
     "text": [
      "transactions_2024-01.csv\n",
      "transactions_2024-02.csv\n",
      "transactions_2024-03.csv\n",
      "18 transactions loaded\n"
     ]
    },
    {
     "data": {
      "text/html": [
       "<div>\n",
       "<style scoped>\n",
       "    .dataframe tbody tr th:only-of-type {\n",
       "        vertical-align: middle;\n",
       "    }\n",
       "\n",
       "    .dataframe tbody tr th {\n",
       "        vertical-align: top;\n",
       "    }\n",
       "\n",
       "    .dataframe thead th {\n",
       "        text-align: right;\n",
       "    }\n",
       "</style>\n",
       "<table border=\"1\" class=\"dataframe\">\n",
       "  <thead>\n",
       "    <tr style=\"text-align: right;\">\n",
       "      <th></th>\n",
       "      <th>customer_id</th>\n",
       "      <th>date</th>\n",
       "      <th>product_id</th>\n",
       "      <th>product_name</th>\n",
       "      <th>product_price</th>\n",
       "      <th>quantity</th>\n",
       "    </tr>\n",
       "  </thead>\n",
       "  <tbody>\n",
       "    <tr>\n",
       "      <th>0</th>\n",
       "      <td>1234</td>\n",
       "      <td>2024-01-01</td>\n",
       "      <td>555</td>\n",
       "      <td>Laptop</td>\n",
       "      <td>999</td>\n",
       "      <td>1</td>\n",
       "    </tr>\n",
       "    <tr>\n",
       "      <th>1</th>\n",
       "      <td>1234</td>\n",
       "      <td>2024-01-01</td>\n",
       "      <td>666</td>\n",
       "      <td>Headphones</td>\n",
       "      <td>149</td>\n",
       "      <td>1</td>\n",
       "    </tr>\n",
       "    <tr>\n",
       "      <th>2</th>\n",
       "      <td>1234</td>\n",
       "      <td>2024-01-02</td>\n",
       "      <td>444</td>\n",
       "      <td>Mouse</td>\n",
       "      <td>49</td>\n",
       "      <td>1</td>\n",
       "    </tr>\n",
       "    <tr>\n",
       "      <th>3</th>\n",
       "      <td>4321</td>\n",
       "      <td>2024-01-05</td>\n",
       "      <td>666</td>\n",
       "      <td>Headphones</td>\n",
       "      <td>149</td>\n",
       "      <td>2</td>\n",
       "    </tr>\n",
       "    <tr>\n",
       "      <th>4</th>\n",
       "      <td>4321</td>\n",
       "      <td>2024-01-02</td>\n",
       "      <td>444</td>\n",
       "      <td>Mouse</td>\n",
       "      <td>49</td>\n",
       "      <td>3</td>\n",
       "    </tr>\n",
       "    <tr>\n",
       "      <th>5</th>\n",
       "      <td>7234</td>\n",
       "      <td>2024-01-05</td>\n",
       "      <td>666</td>\n",
       "      <td>Headphones</td>\n",
       "      <td>100</td>\n",
       "      <td>1</td>\n",
       "    </tr>\n",
       "    <tr>\n",
       "      <th>6</th>\n",
       "      <td>4321</td>\n",
       "      <td>2024-02-13</td>\n",
       "      <td>555</td>\n",
       "      <td>Laptop</td>\n",
       "      <td>790</td>\n",
       "      <td>1</td>\n",
       "    </tr>\n",
       "    <tr>\n",
       "      <th>7</th>\n",
       "      <td>1234</td>\n",
       "      <td>2024-02-13</td>\n",
       "      <td>666</td>\n",
       "      <td>Headphones</td>\n",
       "      <td>129</td>\n",
       "      <td>1</td>\n",
       "    </tr>\n",
       "    <tr>\n",
       "      <th>8</th>\n",
       "      <td>4321</td>\n",
       "      <td>2024-02-15</td>\n",
       "      <td>444</td>\n",
       "      <td>Mouse</td>\n",
       "      <td>59</td>\n",
       "      <td>1</td>\n",
       "    </tr>\n",
       "    <tr>\n",
       "      <th>9</th>\n",
       "      <td>7234</td>\n",
       "      <td>2024-02-22</td>\n",
       "      <td>666</td>\n",
       "      <td>Headphones</td>\n",
       "      <td>129</td>\n",
       "      <td>2</td>\n",
       "    </tr>\n",
       "    <tr>\n",
       "      <th>10</th>\n",
       "      <td>4321</td>\n",
       "      <td>2024-02-25</td>\n",
       "      <td>444</td>\n",
       "      <td>Mouse</td>\n",
       "      <td>59</td>\n",
       "      <td>3</td>\n",
       "    </tr>\n",
       "    <tr>\n",
       "      <th>11</th>\n",
       "      <td>7234</td>\n",
       "      <td>2024-02-25</td>\n",
       "      <td>666</td>\n",
       "      <td>Headphones</td>\n",
       "      <td>80</td>\n",
       "      <td>1</td>\n",
       "    </tr>\n",
       "    <tr>\n",
       "      <th>12</th>\n",
       "      <td>7234</td>\n",
       "      <td>2024-03-07</td>\n",
       "      <td>555</td>\n",
       "      <td>Laptop</td>\n",
       "      <td>1010</td>\n",
       "      <td>1</td>\n",
       "    </tr>\n",
       "    <tr>\n",
       "      <th>13</th>\n",
       "      <td>7234</td>\n",
       "      <td>2024-03-07</td>\n",
       "      <td>666</td>\n",
       "      <td>Headphones</td>\n",
       "      <td>172</td>\n",
       "      <td>1</td>\n",
       "    </tr>\n",
       "    <tr>\n",
       "      <th>14</th>\n",
       "      <td>1234</td>\n",
       "      <td>2024-03-12</td>\n",
       "      <td>444</td>\n",
       "      <td>Mouse</td>\n",
       "      <td>61</td>\n",
       "      <td>1</td>\n",
       "    </tr>\n",
       "    <tr>\n",
       "      <th>15</th>\n",
       "      <td>7234</td>\n",
       "      <td>2024-03-12</td>\n",
       "      <td>666</td>\n",
       "      <td>Headphones</td>\n",
       "      <td>172</td>\n",
       "      <td>2</td>\n",
       "    </tr>\n",
       "    <tr>\n",
       "      <th>16</th>\n",
       "      <td>4321</td>\n",
       "      <td>2024-03-31</td>\n",
       "      <td>444</td>\n",
       "      <td>Mouse</td>\n",
       "      <td>61</td>\n",
       "      <td>3</td>\n",
       "    </tr>\n",
       "    <tr>\n",
       "      <th>17</th>\n",
       "      <td>4321</td>\n",
       "      <td>2024-03-31</td>\n",
       "      <td>666</td>\n",
       "      <td>Headphones</td>\n",
       "      <td>80</td>\n",
       "      <td>1</td>\n",
       "    </tr>\n",
       "  </tbody>\n",
       "</table>\n",
       "</div>"
      ],
      "text/plain": [
       "    customer_id        date  product_id product_name  product_price  quantity\n",
       "0          1234  2024-01-01         555       Laptop            999         1\n",
       "1          1234  2024-01-01         666   Headphones            149         1\n",
       "2          1234  2024-01-02         444        Mouse             49         1\n",
       "3          4321  2024-01-05         666   Headphones            149         2\n",
       "4          4321  2024-01-02         444        Mouse             49         3\n",
       "5          7234  2024-01-05         666   Headphones            100         1\n",
       "6          4321  2024-02-13         555       Laptop            790         1\n",
       "7          1234  2024-02-13         666   Headphones            129         1\n",
       "8          4321  2024-02-15         444        Mouse             59         1\n",
       "9          7234  2024-02-22         666   Headphones            129         2\n",
       "10         4321  2024-02-25         444        Mouse             59         3\n",
       "11         7234  2024-02-25         666   Headphones             80         1\n",
       "12         7234  2024-03-07         555       Laptop           1010         1\n",
       "13         7234  2024-03-07         666   Headphones            172         1\n",
       "14         1234  2024-03-12         444        Mouse             61         1\n",
       "15         7234  2024-03-12         666   Headphones            172         2\n",
       "16         4321  2024-03-31         444        Mouse             61         3\n",
       "17         4321  2024-03-31         666   Headphones             80         1"
      ]
     },
     "execution_count": 18,
     "metadata": {},
     "output_type": "execute_result"
    }
   ],
   "source": [
    "path = 'data'\n",
    "shop.load_transactions_from_folder(path)\n",
    "shop.df"
   ]
  },
  {
   "cell_type": "code",
   "execution_count": 15,
   "id": "9ed16c11-8853-4c3a-8860-bf2ac78d72d7",
   "metadata": {},
   "outputs": [
    {
     "name": "stdout",
     "output_type": "stream",
     "text": [
      "customer_id: 1234, revenue: 1387 CHF\n",
      "customer_id: 4321, revenue: 1734 CHF\n",
      "customer_id: 7234, revenue: 1964 CHF\n"
     ]
    }
   ],
   "source": [
    "shop.print_revenue_per_customer()"
   ]
  },
  {
   "cell_type": "code",
   "execution_count": 16,
   "id": "b2388b0b-37a3-42f4-a70c-da2063edb82a",
   "metadata": {},
   "outputs": [
    {
     "name": "stdout",
     "output_type": "stream",
     "text": [
      "date: 2024-01, revenue: 1742 CHF\n",
      "date: 2024-02, revenue: 1493 CHF\n",
      "date: 2024-03, revenue: 1850 CHF\n"
     ]
    }
   ],
   "source": [
    "shop.print_revenue_per_month()"
   ]
  },
  {
   "cell_type": "code",
   "execution_count": 17,
   "id": "56e2eb75-8fd5-4451-be15-ee5b28df7710",
   "metadata": {},
   "outputs": [
    {
     "name": "stdout",
     "output_type": "stream",
     "text": [
      "customer_id: 1234\n",
      "- date: 2024-01-01, revenue total: 1148 CHF\n",
      "  - id: 555, name: Laptop, price: 999, quantity: 1, revenue: 999\n",
      "  - id: 666, name: Headphones, price: 149, quantity: 1, revenue: 149\n",
      "- date: 2024-02-01, revenue total: 49 CHF\n",
      "  - id: 444, name: Mouse, price: 49, quantity: 1, revenue: 49\n",
      "- date: 2024-13-02, revenue total: 129 CHF\n",
      "  - id: 666, name: Headphones, price: 129, quantity: 1, revenue: 129\n",
      "- date: 2024-12-03, revenue total: 61 CHF\n",
      "  - id: 444, name: Mouse, price: 61, quantity: 1, revenue: 61\n"
     ]
    }
   ],
   "source": [
    "shop.print_customer_transactions(customer_id=1234)"
   ]
  },
  {
   "cell_type": "markdown",
   "id": "84e47820-7bef-4149-a273-de9a1bee2b5d",
   "metadata": {},
   "source": [
    "### Review\n",
    "\n",
    "##### The Good\n",
    "- code is split up into reusable functions\n",
    "- implementation details are hidden behind the function names\n",
    "- code can be used in PROD and in Jupyter Notebooks\n",
    "\n",
    "##### The Bad\n",
    "- order of execution still matters if functions have \"side-effects\"\n",
    "- changes on data structure must be updated in each functions (e.g. add \"shipping_cost\")"
   ]
  },
  {
   "cell_type": "code",
   "execution_count": null,
   "id": "62019eb9-39ef-4960-ae8f-f4e36fa69370",
   "metadata": {},
   "outputs": [],
   "source": []
  }
 ],
 "metadata": {
  "kernelspec": {
   "display_name": "DevOps",
   "language": "python",
   "name": "devops"
  },
  "language_info": {
   "codemirror_mode": {
    "name": "ipython",
    "version": 3
   },
   "file_extension": ".py",
   "mimetype": "text/x-python",
   "name": "python",
   "nbconvert_exporter": "python",
   "pygments_lexer": "ipython3",
   "version": "3.9.7"
  }
 },
 "nbformat": 4,
 "nbformat_minor": 5
}
