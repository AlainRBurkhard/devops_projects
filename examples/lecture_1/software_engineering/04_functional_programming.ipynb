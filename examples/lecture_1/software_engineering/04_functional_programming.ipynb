{
 "cells": [
  {
   "cell_type": "markdown",
   "id": "6fca3d8d-ace0-42c5-b196-425f300aac97",
   "metadata": {},
   "source": [
    "### Functional Programming\n",
    "Code is structured in classes with functions which do not alter any state (immutable data)"
   ]
  },
  {
   "cell_type": "code",
   "execution_count": 6,
   "id": "2df96ba1-8e52-4f2b-9c0a-15e78633dd6c",
   "metadata": {},
   "outputs": [],
   "source": [
    "import shop_functional_programming as shop_fp"
   ]
  },
  {
   "cell_type": "code",
   "execution_count": 7,
   "id": "903068a2-211c-4fbc-bc36-fedfd2615f92",
   "metadata": {},
   "outputs": [
    {
     "name": "stdout",
     "output_type": "stream",
     "text": [
      "The autoreload extension is already loaded. To reload it, use:\n",
      "  %reload_ext autoreload\n"
     ]
    }
   ],
   "source": [
    "# this auto-relaods the imported modules when edited\n",
    "%load_ext autoreload\n",
    "%autoreload 2"
   ]
  },
  {
   "cell_type": "code",
   "execution_count": 12,
   "id": "5148ad9a-de32-4f28-bf65-b5e50f7e9cc6",
   "metadata": {},
   "outputs": [],
   "source": [
    "shop = shop_fp.Shop.get_instance()"
   ]
  },
  {
   "cell_type": "code",
   "execution_count": 16,
   "id": "5075b89d-d176-4778-bd2a-025ae235229c",
   "metadata": {},
   "outputs": [
    {
     "name": "stdout",
     "output_type": "stream",
     "text": [
      "transactions_2024-01.csv\n",
      "transactions_2024-02.csv\n",
      "transactions_2024-03.csv\n",
      "18 transactions loaded\n"
     ]
    }
   ],
   "source": [
    "path = 'data'\n",
    "shop = shop_fp.Shop.load_transactions_from_folder(shop, path)"
   ]
  },
  {
   "cell_type": "code",
   "execution_count": 17,
   "id": "f1d7547a-1df2-4832-ae13-04cae39c9e02",
   "metadata": {},
   "outputs": [
    {
     "name": "stdout",
     "output_type": "stream",
     "text": [
      "customer_id: 1234, revenue: 1387 CHF\n",
      "customer_id: 4321, revenue: 1734 CHF\n",
      "customer_id: 7234, revenue: 1964 CHF\n"
     ]
    }
   ],
   "source": [
    "shop_fp.Shop.print_revenue_per_customer(shop)"
   ]
  },
  {
   "cell_type": "code",
   "execution_count": 19,
   "id": "56e2eb75-8fd5-4451-be15-ee5b28df7710",
   "metadata": {},
   "outputs": [
    {
     "name": "stdout",
     "output_type": "stream",
     "text": [
      "month: 2024-01, revenue: 1742 CHF\n",
      "month: 2024-02, revenue: 1493 CHF\n",
      "month: 2024-03, revenue: 1850 CHF\n"
     ]
    }
   ],
   "source": [
    "shop_fp.Shop.print_revenue_per_month(shop)"
   ]
  },
  {
   "cell_type": "code",
   "execution_count": 20,
   "id": "a4682da6-29b7-4ea9-9c26-228d0d030173",
   "metadata": {},
   "outputs": [
    {
     "name": "stdout",
     "output_type": "stream",
     "text": [
      "customer_id: 1234\n",
      "- date: 2024-01-01, revenue total: 1148 CHF\n",
      "  - id: 555, name: Laptop, price: 999, quantity: 1, revenue: 999\n",
      "  - id: 666, name: Headphones, price: 149, quantity: 1, revenue: 149\n",
      "- date: 2024-01-02, revenue total: 49 CHF\n",
      "  - id: 444, name: Mouse, price: 49, quantity: 1, revenue: 49\n",
      "- date: 2024-02-13, revenue total: 129 CHF\n",
      "  - id: 666, name: Headphones, price: 129, quantity: 1, revenue: 129\n",
      "- date: 2024-03-12, revenue total: 61 CHF\n",
      "  - id: 444, name: Mouse, price: 61, quantity: 1, revenue: 61\n"
     ]
    }
   ],
   "source": [
    "customer_id = 1234\n",
    "shop_fp.Shop.print_customer_transactions(shop, customer_id)"
   ]
  },
  {
   "cell_type": "markdown",
   "id": "3c56d4cc-c394-4a99-a2aa-bbba5bbf14c4",
   "metadata": {},
   "source": [
    "### Review\n",
    "\n",
    "##### The Good\n",
    "- functions are grouped in namespaces (classes)\n",
    "- functions have no side effects (easy for testing and debugging)\n",
    "- maximal reusability of funcitons, classes, modules\n",
    "\n",
    "##### The Bad\n",
    "- functions and data structures are separated\n",
    "- updates on data structure have impact on multiple functions\n",
    "- usually more code to write\n",
    "- code complexity increases with features"
   ]
  },
  {
   "cell_type": "code",
   "execution_count": null,
   "id": "86cb25c2-29a3-4217-a23c-112ec29882cd",
   "metadata": {},
   "outputs": [],
   "source": []
  }
 ],
 "metadata": {
  "kernelspec": {
   "display_name": "DevOps",
   "language": "python",
   "name": "devops"
  },
  "language_info": {
   "codemirror_mode": {
    "name": "ipython",
    "version": 3
   },
   "file_extension": ".py",
   "mimetype": "text/x-python",
   "name": "python",
   "nbconvert_exporter": "python",
   "pygments_lexer": "ipython3",
   "version": "3.9.7"
  }
 },
 "nbformat": 4,
 "nbformat_minor": 5
}
